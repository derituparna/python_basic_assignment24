{
 "cells": [
  {
   "cell_type": "markdown",
   "id": "e277807a",
   "metadata": {},
   "source": [
    "1. What is the relationship between def statements and lambda expressions ?"
   ]
  },
  {
   "cell_type": "code",
   "execution_count": null,
   "id": "6706e82c",
   "metadata": {},
   "outputs": [],
   "source": [
    "=>def statement is used to create a normal function. where as lamba expressions are used to create Anonymous functions.\n",
    "Lambda expressions is a single expression and not a block of statements like def statement. "
   ]
  },
  {
   "cell_type": "markdown",
   "id": "645c9f9d",
   "metadata": {},
   "source": [
    "2. What is the benefit of lambda?"
   ]
  },
  {
   "cell_type": "code",
   "execution_count": null,
   "id": "de238867",
   "metadata": {},
   "outputs": [],
   "source": [
    "=>Moderate to small functions can be created in a single line."
   ]
  },
  {
   "cell_type": "code",
   "execution_count": null,
   "id": "98438923",
   "metadata": {},
   "outputs": [],
   "source": [
    "3. Compare and contrast map, filter, and reduce."
   ]
  },
  {
   "cell_type": "code",
   "execution_count": null,
   "id": "5180a74d",
   "metadata": {},
   "outputs": [],
   "source": []
  },
  {
   "cell_type": "code",
   "execution_count": 1,
   "id": "440f1f44",
   "metadata": {},
   "outputs": [
    {
     "data": {
      "text/plain": [
       "[11, 12, 13, 14, 15, 16, 17, 18, 19]"
      ]
     },
     "execution_count": 1,
     "metadata": {},
     "output_type": "execute_result"
    }
   ],
   "source": [
    "l=[1,2,3,4,5,6,7,8,9]\n",
    "# map\n",
    "list(map(lambda a:a+10,l))"
   ]
  },
  {
   "cell_type": "code",
   "execution_count": 4,
   "id": "2267bed5",
   "metadata": {},
   "outputs": [
    {
     "data": {
      "text/plain": [
       "[2, 4, 6, 8]"
      ]
     },
     "execution_count": 4,
     "metadata": {},
     "output_type": "execute_result"
    }
   ],
   "source": [
    "#filter-It work based on True or false\n",
    "a=lambda a: a if a%2==0 else None\n",
    "list(filter(a,l))"
   ]
  },
  {
   "cell_type": "code",
   "execution_count": 5,
   "id": "c6b19a22",
   "metadata": {},
   "outputs": [
    {
     "data": {
      "text/plain": [
       "362880"
      ]
     },
     "execution_count": 5,
     "metadata": {},
     "output_type": "execute_result"
    }
   ],
   "source": [
    "# reduce - give me multiplication of the list l.\n",
    "from functools import reduce\n",
    "reduce(lambda a,b:a*b,l)"
   ]
  },
  {
   "cell_type": "code",
   "execution_count": 6,
   "id": "9a580ffa",
   "metadata": {},
   "outputs": [
    {
     "data": {
      "text/plain": [
       "[2, 4, 6, 8]"
      ]
     },
     "execution_count": 6,
     "metadata": {},
     "output_type": "execute_result"
    }
   ],
   "source": [
    "#filter-It work based on True or false\n",
    "a=lambda a: a if a%2==0 else None\n",
    "list(filter(a,l))"
   ]
  },
  {
   "cell_type": "markdown",
   "id": "30c7543f",
   "metadata": {},
   "source": [
    "4. What are function annotations, and how are they used?"
   ]
  },
  {
   "cell_type": "code",
   "execution_count": null,
   "id": "416a089b",
   "metadata": {},
   "outputs": [],
   "source": [
    "=>Function annotations provide a way of associating various parts of a function with arbitrary\n",
    "python expressions at compile time.\n",
    "Annotations of simple parameters def func(x: expression, y: expression = 20):\n",
    "Whereas the annotations for excess parameters are as − def func (**args: expression, **kwargs: expression):"
   ]
  },
  {
   "cell_type": "markdown",
   "id": "ace0158f",
   "metadata": {},
   "source": [
    "5. What are recursive functions, and how are they used?"
   ]
  },
  {
   "cell_type": "code",
   "execution_count": null,
   "id": "2f64c254",
   "metadata": {},
   "outputs": [],
   "source": [
    "=>A recursive function is a function that calls itself during its execution. The process may repeat several times, \n",
    "outputting the result and the end of each iteration."
   ]
  },
  {
   "cell_type": "markdown",
   "id": "356266e8",
   "metadata": {},
   "source": [
    "6. What are some general design guidelines for coding functions?"
   ]
  },
  {
   "cell_type": "code",
   "execution_count": null,
   "id": "3bea1c34",
   "metadata": {},
   "outputs": [],
   "source": [
    "(1)-Always use a docstring to explain the functionality of the function\n",
    "(2)-avoid using or limited use of global variables\n",
    "(3)-Proper Identation to increase the code readability\n",
    "(4)-try to follow a naming convention for function names (pascalCase or camelCase)\n",
    "   and stick with the same convention throughout the application.\n",
    "(5)-Avoid using digits while choosing a variable name\n",
    "(6)-try to use a name for the function which conveys the purpose of the function\n",
    "(7)-Local variables should be named using camelCase format (ex: localVariable) \n",
    "    whereas Global variables names should be using PascalCase (ex:GlobalVariable).\n",
    "(8)-Constant should be represented in allcaps (ex:CONSTANT)."
   ]
  },
  {
   "cell_type": "markdown",
   "id": "5b2609d9",
   "metadata": {},
   "source": [
    "7. Name three or more ways that functions can communicate results to a caller."
   ]
  },
  {
   "cell_type": "code",
   "execution_count": null,
   "id": "af93536e",
   "metadata": {},
   "outputs": [],
   "source": [
    "print\n",
    "return\n",
    "yield"
   ]
  }
 ],
 "metadata": {
  "kernelspec": {
   "display_name": "Python 3",
   "language": "python",
   "name": "python3"
  },
  "language_info": {
   "codemirror_mode": {
    "name": "ipython",
    "version": 3
   },
   "file_extension": ".py",
   "mimetype": "text/x-python",
   "name": "python",
   "nbconvert_exporter": "python",
   "pygments_lexer": "ipython3",
   "version": "3.8.8"
  }
 },
 "nbformat": 4,
 "nbformat_minor": 5
}
